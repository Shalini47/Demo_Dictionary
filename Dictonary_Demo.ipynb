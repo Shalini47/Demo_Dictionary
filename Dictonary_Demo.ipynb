{
 "cells": [
  {
   "cell_type": "code",
   "execution_count": 28,
   "metadata": {},
   "outputs": [],
   "source": [
    "D=dict()"
   ]
  },
  {
   "cell_type": "code",
   "execution_count": 29,
   "metadata": {},
   "outputs": [
    {
     "name": "stdout",
     "output_type": "stream",
     "text": [
      "Enter Value21\n",
      "Enter KeyKriti\n",
      "Enter Value22\n",
      "Enter KeyShivam\n",
      "Enter Value24\n",
      "Enter KeyShreya\n",
      "Enter Value23\n",
      "Enter KeyDeepti\n",
      "Enter Value29\n",
      "Enter KeyHimani\n",
      "Enter Value31\n",
      "Enter KeyFaizan\n",
      "Enter Value32\n",
      "Enter KeyIshani\n",
      "Enter Value35\n",
      "Enter KeyHimesh\n",
      "Enter Value27\n",
      "Enter KeyPreeti\n",
      "Enter Value28\n",
      "Enter KeyFiroz\n"
     ]
    }
   ],
   "source": [
    "for i in range(10):\n",
    "    D[input(\"Enter Key\")]=input(\"Enter Value\")"
   ]
  },
  {
   "cell_type": "code",
   "execution_count": 30,
   "metadata": {},
   "outputs": [
    {
     "data": {
      "text/plain": [
       "{'Kriti': '21',\n",
       " 'Shivam': '22',\n",
       " 'Shreya': '24',\n",
       " 'Deepti': '23',\n",
       " 'Himani': '29',\n",
       " 'Faizan': '31',\n",
       " 'Ishani': '32',\n",
       " 'Himesh': '35',\n",
       " 'Preeti': '27',\n",
       " 'Firoz': '28'}"
      ]
     },
     "execution_count": 30,
     "metadata": {},
     "output_type": "execute_result"
    }
   ],
   "source": [
    "D"
   ]
  },
  {
   "cell_type": "code",
   "execution_count": 31,
   "metadata": {},
   "outputs": [
    {
     "data": {
      "text/plain": [
       "dict_keys(['Kriti', 'Shivam', 'Shreya', 'Deepti', 'Himani', 'Faizan', 'Ishani', 'Himesh', 'Preeti', 'Firoz'])"
      ]
     },
     "execution_count": 31,
     "metadata": {},
     "output_type": "execute_result"
    }
   ],
   "source": [
    "D.keys()"
   ]
  },
  {
   "cell_type": "code",
   "execution_count": 32,
   "metadata": {},
   "outputs": [],
   "source": [
    "l=list(D.items())"
   ]
  },
  {
   "cell_type": "code",
   "execution_count": 33,
   "metadata": {},
   "outputs": [
    {
     "data": {
      "text/plain": [
       "[('Kriti', '21'),\n",
       " ('Shivam', '22'),\n",
       " ('Shreya', '24'),\n",
       " ('Deepti', '23'),\n",
       " ('Himani', '29'),\n",
       " ('Faizan', '31'),\n",
       " ('Ishani', '32'),\n",
       " ('Himesh', '35'),\n",
       " ('Preeti', '27'),\n",
       " ('Firoz', '28')]"
      ]
     },
     "execution_count": 33,
     "metadata": {},
     "output_type": "execute_result"
    }
   ],
   "source": [
    "l"
   ]
  },
  {
   "cell_type": "code",
   "execution_count": 34,
   "metadata": {},
   "outputs": [
    {
     "data": {
      "text/plain": [
       "('Kriti', '21')"
      ]
     },
     "execution_count": 34,
     "metadata": {},
     "output_type": "execute_result"
    }
   ],
   "source": [
    "l[0]"
   ]
  },
  {
   "cell_type": "code",
   "execution_count": 35,
   "metadata": {},
   "outputs": [
    {
     "data": {
      "text/plain": [
       "'Ishani'"
      ]
     },
     "execution_count": 35,
     "metadata": {},
     "output_type": "execute_result"
    }
   ],
   "source": [
    "l[6][0]"
   ]
  },
  {
   "cell_type": "code",
   "execution_count": 36,
   "metadata": {},
   "outputs": [],
   "source": [
    "Dict_rev=dict()\n",
    "j=0"
   ]
  },
  {
   "cell_type": "code",
   "execution_count": 37,
   "metadata": {},
   "outputs": [],
   "source": [
    "for i in range(10):\n",
    "    Dict_rev[l[i][1]]=l[i][0]"
   ]
  },
  {
   "cell_type": "code",
   "execution_count": 38,
   "metadata": {},
   "outputs": [
    {
     "data": {
      "text/plain": [
       "{'21': 'Kriti',\n",
       " '22': 'Shivam',\n",
       " '24': 'Shreya',\n",
       " '23': 'Deepti',\n",
       " '29': 'Himani',\n",
       " '31': 'Faizan',\n",
       " '32': 'Ishani',\n",
       " '35': 'Himesh',\n",
       " '27': 'Preeti',\n",
       " '28': 'Firoz'}"
      ]
     },
     "execution_count": 38,
     "metadata": {},
     "output_type": "execute_result"
    }
   ],
   "source": [
    "Dict_rev"
   ]
  },
  {
   "cell_type": "code",
   "execution_count": null,
   "metadata": {},
   "outputs": [],
   "source": []
  }
 ],
 "metadata": {
  "kernelspec": {
   "display_name": "Python 3",
   "language": "python",
   "name": "python3"
  },
  "language_info": {
   "codemirror_mode": {
    "name": "ipython",
    "version": 3
   },
   "file_extension": ".py",
   "mimetype": "text/x-python",
   "name": "python",
   "nbconvert_exporter": "python",
   "pygments_lexer": "ipython3",
   "version": "3.7.6"
  }
 },
 "nbformat": 4,
 "nbformat_minor": 4
}
